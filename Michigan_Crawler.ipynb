{
 "cells": [
  {
   "cell_type": "code",
   "execution_count": 5,
   "id": "eafa9b78-c1be-49fe-bc0e-9be7592576a0",
   "metadata": {},
   "outputs": [
    {
     "name": "stdout",
     "output_type": "stream",
     "text": [
      "[('Act 38 of 1979', 'https://www.legislature.mi.gov/Home/GetObject?objectName=mcl-Act-38-of-1979&highlight=energy&queryID=170095218'), ('Act 191 of 1982', 'https://www.legislature.mi.gov/Home/GetObject?objectName=mcl-Act-191-of-1982&highlight=energy&queryID=170095218'), ('Act 625 of 2012', 'https://www.legislature.mi.gov/Home/GetObject?objectName=mcl-Act-625-of-2012&highlight=energy&queryID=170095218'), ('Act 230 of 1972', 'https://www.legislature.mi.gov/Home/GetObject?objectName=mcl-Act-230-of-1972&highlight=energy&queryID=170095218'), ('Act 593 of 2002', 'https://www.legislature.mi.gov/Home/GetObject?objectName=mcl-Act-593-of-2002&highlight=energy&queryID=170095218')]\n",
      "Total links: 583\n"
     ]
    }
   ],
   "source": [
    "from playwright.async_api import async_playwright\n",
    "\n",
    "async def extract_michigan_energy_links():\n",
    "    results = []\n",
    "    base_url = \"https://www.legislature.mi.gov\"  # Define the base URL\n",
    "\n",
    "    async with async_playwright() as p:\n",
    "        browser = await p.chromium.launch(headless=False)  # Use headless=False for debugging\n",
    "        page = await browser.new_page()\n",
    "\n",
    "        # Step 1: Go to the Michigan Legislature search page\n",
    "        await page.goto(\"https://www.legislature.mi.gov/Laws/MCLSearch\", wait_until=\"load\")\n",
    "        \n",
    "        # Wait for the search input field to be available\n",
    "        await page.wait_for_selector(\"input[name='contentFullText']\", timeout=60000)\n",
    "\n",
    "        # Fill the search input field with the term \"energy\"\n",
    "        await page.fill(\"input[name='contentFullText']\", \"energy\")\n",
    "        \n",
    "        # Press Enter to submit the search\n",
    "        await page.press(\"input[name='contentFullText']\", \"Enter\")\n",
    "\n",
    "        # Step 2: Wait for the result list to load and be visible\n",
    "        await page.wait_for_selector(\"tbody\", timeout=10000)  # The table body where results are\n",
    "\n",
    "        # Step 3: Extract the links from the result items\n",
    "        while True:\n",
    "            # Extract links from the current page\n",
    "            links = await page.query_selector_all(\"tbody tr td a\")\n",
    "\n",
    "            # Collect the URLs and any additional information if needed\n",
    "            for link in links:\n",
    "                href = await link.get_attribute(\"href\")\n",
    "                text = await link.inner_text()\n",
    "\n",
    "                # Check if the href is a relative URL and prepend the base URL\n",
    "                if href and href.startswith(\"/\"):\n",
    "                    href = base_url + href\n",
    "\n",
    "                results.append((text.strip(), href))\n",
    "\n",
    "            # Check if there's a \"Next\" button for pagination\n",
    "            next_button = await page.query_selector(\"a[aria-label='Next']\")\n",
    "            if next_button:\n",
    "                # Click the \"Next\" button to go to the next page\n",
    "                await next_button.click()\n",
    "                await page.wait_for_timeout(3000)  # Wait for the page to load\n",
    "            else:\n",
    "                # No \"Next\" button found, meaning we've reached the last page\n",
    "                break\n",
    "\n",
    "        await browser.close()\n",
    "        return results\n",
    "\n",
    "# To run the function in Jupyter directly:\n",
    "section_links = await extract_michigan_energy_links()\n",
    "print(section_links[:5])  # Print first 5 links\n",
    "print(f\"Total links: {len(section_links)}\")\n"
   ]
  },
  {
   "cell_type": "code",
   "execution_count": 6,
   "id": "e946cbcc-5a4c-43c6-9def-6038307ceb30",
   "metadata": {},
   "outputs": [],
   "source": [
    "import pandas as pd\n",
    "\n",
    "# for a flat list:\n",
    "H = list(set(section_links))\n",
    "df = pd.DataFrame(H, columns=[\"Statute\",\"Document Link\"])\n",
    "df['state'] = 'Michigan'\n",
    "df.to_csv(\"michigan_energy_data_unfiltered.csv\", index=False)"
   ]
  },
  {
   "cell_type": "code",
   "execution_count": null,
   "id": "09dd360f-ef11-48d9-962b-d6e948b15e52",
   "metadata": {},
   "outputs": [],
   "source": []
  },
  {
   "cell_type": "code",
   "execution_count": null,
   "id": "032f0553-8e5d-4a66-a81e-abc73ca6e7bc",
   "metadata": {},
   "outputs": [],
   "source": []
  }
 ],
 "metadata": {
  "kernelspec": {
   "display_name": "Python 3 (ipykernel)",
   "language": "python",
   "name": "python3"
  },
  "language_info": {
   "codemirror_mode": {
    "name": "ipython",
    "version": 3
   },
   "file_extension": ".py",
   "mimetype": "text/x-python",
   "name": "python",
   "nbconvert_exporter": "python",
   "pygments_lexer": "ipython3",
   "version": "3.11.11"
  }
 },
 "nbformat": 4,
 "nbformat_minor": 5
}
