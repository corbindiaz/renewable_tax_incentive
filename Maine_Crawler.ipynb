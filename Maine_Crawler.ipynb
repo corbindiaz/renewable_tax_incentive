{
 "cells": [
  {
   "cell_type": "code",
   "execution_count": 1,
   "id": "eafa9b78-c1be-49fe-bc0e-9be7592576a0",
   "metadata": {},
   "outputs": [
    {
     "name": "stdout",
     "output_type": "stream",
     "text": [
      "[('Title 38, §480-HH:\\xa0General permit for offshore wind energy demonstration project', 'https://legislature.maine.gov/legis/statutes/38/title38sec480-HH.html'), ('Title 35-A, §10104:\\xa0Duties', 'https://legislature.maine.gov/legis/statutes/35-A/title35-Asec10104.html'), (\"Title 2, §9:\\xa0Governor's Energy Office\", 'https://legislature.maine.gov/legis/statutes/2/title2sec9.html'), ('Title 35-A, §3210-I:\\xa0Northern Maine Renewable Energy Development Program', 'https://legislature.maine.gov/legis/statutes/35-A/title35-Asec3210-I.html'), ('Title 35-A, §3210:\\xa0Renewable resources', 'https://legislature.maine.gov/legis/statutes/35-A/title35-Asec3210.html')]\n",
      "Total links: 651\n"
     ]
    }
   ],
   "source": [
    "from playwright.async_api import async_playwright\n",
    "\n",
    "async def extract_maine_energy_links():\n",
    "    results = []\n",
    "    async with async_playwright() as p:\n",
    "        browser = await p.chromium.launch(headless=False)\n",
    "        page = await browser.new_page()\n",
    "\n",
    "        # Step 1: Go to the Maine Legislature search page\n",
    "        await page.goto(\"https://legislature.maine.gov/statutes/search.htm\", wait_until=\"load\")\n",
    "        \n",
    "        # Wait for the search input field to be available\n",
    "        await page.wait_for_selector(\"input[name='querytext']\", timeout=60000)\n",
    "\n",
    "        # Fill the search input field with the term \"energy\"\n",
    "        await page.fill(\"input[name='querytext']\", \"energy\")\n",
    "        \n",
    "        # Press Enter to submit the search\n",
    "        await page.press(\"input[name='querytext']\", \"Enter\")\n",
    "\n",
    "        # Step 2: Wait for the result list to load (selector for the list of results)\n",
    "        await page.wait_for_selector(\"ul.results\", timeout=10000)\n",
    "\n",
    "        # Step 3: Extract the links from the list items\n",
    "        links = await page.query_selector_all(\"ul.results li a\")\n",
    "\n",
    "        # Collect the URLs and any additional information if needed\n",
    "        for link in links:\n",
    "            href = await link.get_attribute(\"href\")\n",
    "            text = await link.inner_text()\n",
    "            # If the link is relative, prepend the base URL\n",
    "            if href and not href.startswith(\"http\"):\n",
    "                href = f\"https://legislature.maine.gov{href}\"\n",
    "            results.append((text.strip(), href))\n",
    "\n",
    "        await browser.close()\n",
    "        return results\n",
    "\n",
    "# To run the function in Jupyter directly:\n",
    "section_links = await extract_maine_energy_links()\n",
    "print(section_links[:5])  # Print first 5 links\n",
    "print(f\"Total links: {len(section_links)}\")\n"
   ]
  },
  {
   "cell_type": "code",
   "execution_count": 3,
   "id": "e946cbcc-5a4c-43c6-9def-6038307ceb30",
   "metadata": {},
   "outputs": [],
   "source": [
    "import pandas as pd\n",
    "\n",
    "# for a flat list:\n",
    "H = list(set(section_links))\n",
    "df = pd.DataFrame(H, columns=[\"Statute\",\"Document Link\"])\n",
    "df['state'] = 'Maine'\n",
    "df.to_csv(\"maine_energy_data_unfiltered.csv\", index=False)"
   ]
  },
  {
   "cell_type": "code",
   "execution_count": null,
   "id": "032f0553-8e5d-4a66-a81e-abc73ca6e7bc",
   "metadata": {},
   "outputs": [],
   "source": []
  }
 ],
 "metadata": {
  "kernelspec": {
   "display_name": "Python 3 (ipykernel)",
   "language": "python",
   "name": "python3"
  },
  "language_info": {
   "codemirror_mode": {
    "name": "ipython",
    "version": 3
   },
   "file_extension": ".py",
   "mimetype": "text/x-python",
   "name": "python",
   "nbconvert_exporter": "python",
   "pygments_lexer": "ipython3",
   "version": "3.11.11"
  }
 },
 "nbformat": 4,
 "nbformat_minor": 5
}
