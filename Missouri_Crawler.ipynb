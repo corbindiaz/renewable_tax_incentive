{
 "cells": [
  {
   "cell_type": "code",
   "execution_count": 1,
   "id": "eafa9b78-c1be-49fe-bc0e-9be7592576a0",
   "metadata": {},
   "outputs": [
    {
     "name": "stdout",
     "output_type": "stream",
     "text": [
      "Extracted 227 links.\n"
     ]
    }
   ],
   "source": [
    "from playwright.async_api import async_playwright\n",
    "\n",
    "async def extract_missouri_statute_links():\n",
    "    results = []\n",
    "    async with async_playwright() as p:\n",
    "        browser = await p.chromium.launch(headless=False)  # Use Chromium or Firefox\n",
    "        page = await browser.new_page()\n",
    "\n",
    "        # Navigate to Missouri Statutes homepage\n",
    "        await page.goto(\"https://revisor.mo.gov/main/Home.aspx\", wait_until=\"domcontentloaded\")\n",
    "\n",
    "        # Wait for the search input field to be visible\n",
    "        await page.wait_for_selector(\"input[name='ctl00$tbPhrase1']\", timeout=30000)\n",
    "\n",
    "        # Fill in the search field with 'energy'\n",
    "        await page.fill(\"input[name='ctl00$tbPhrase1']\", \"energy\")\n",
    "\n",
    "        # Submit the search by pressing the Enter key\n",
    "        await page.press(\"input[name='ctl00$tbPhrase1']\", \"Enter\")\n",
    "\n",
    "        # Wait for the relevant links to load (adjusting for statute links)\n",
    "        await page.wait_for_selector(\"a[href*='OneSection.aspx'], a[href*='PageSelect.aspx']\", timeout=60000)\n",
    "\n",
    "        # Extract all links that match statute-related patterns\n",
    "        links = await page.query_selector_all(\"a[href*='OneSection.aspx'], a[href*='PageSelect.aspx']\")\n",
    "\n",
    "        # Go through each link, get the href (URL), and store it\n",
    "        for link in links:\n",
    "            href = await link.get_attribute(\"href\")\n",
    "            if href:\n",
    "                # Prepend the base URL to the relative href if necessary\n",
    "                full_link = f\"https://revisor.mo.gov{href}\"\n",
    "                results.append(full_link)\n",
    "\n",
    "        # Close the browser\n",
    "        await browser.close()\n",
    "        return results\n",
    "\n",
    "# Directly call the function to run in Jupyter Notebook\n",
    "section_links = await extract_missouri_statute_links()\n",
    "print(f\"Extracted {len(section_links)} links.\")\n"
   ]
  },
  {
   "cell_type": "code",
   "execution_count": 2,
   "id": "e946cbcc-5a4c-43c6-9def-6038307ceb30",
   "metadata": {
    "scrolled": true
   },
   "outputs": [
    {
     "name": "stdout",
     "output_type": "stream",
     "text": [
      "Data saved to 'missouri_energy_data_unfiltered.csv'.\n"
     ]
    }
   ],
   "source": [
    "import pandas as pd\n",
    "\n",
    "# Assuming section_links is the list of URLs you already have\n",
    "H = list(set(section_links))\n",
    "\n",
    "# Create a list of tuples with (Statute, Document Link)\n",
    "data = []\n",
    "for link in H:\n",
    "    # Extract the statute number from the URL (example: section=8.231)\n",
    "    # This assumes the link format contains \"section=xxx\" where xxx is the statute number\n",
    "    statute_number = link.split(\"section=\")[1].split(\"&\")[0]  # Extract statute number\n",
    "    data.append((statute_number, link))  # Append as a tuple\n",
    "\n",
    "# Convert to a DataFrame\n",
    "df = pd.DataFrame(data, columns=[\"Statute\", \"Document Link\"])\n",
    "df['state'] = 'Missouri'\n",
    "# Save to CSV\n",
    "df.to_csv(\"missouri_energy_data_unfiltered.csv\", index=False)\n",
    "\n",
    "print(f\"Data saved to 'missouri_energy_data_unfiltered.csv'.\")\n"
   ]
  },
  {
   "cell_type": "code",
   "execution_count": null,
   "id": "09dd360f-ef11-48d9-962b-d6e948b15e52",
   "metadata": {},
   "outputs": [],
   "source": []
  },
  {
   "cell_type": "code",
   "execution_count": null,
   "id": "032f0553-8e5d-4a66-a81e-abc73ca6e7bc",
   "metadata": {},
   "outputs": [],
   "source": []
  }
 ],
 "metadata": {
  "kernelspec": {
   "display_name": "Python 3 (ipykernel)",
   "language": "python",
   "name": "python3"
  },
  "language_info": {
   "codemirror_mode": {
    "name": "ipython",
    "version": 3
   },
   "file_extension": ".py",
   "mimetype": "text/x-python",
   "name": "python",
   "nbconvert_exporter": "python",
   "pygments_lexer": "ipython3",
   "version": "3.11.11"
  }
 },
 "nbformat": 4,
 "nbformat_minor": 5
}
